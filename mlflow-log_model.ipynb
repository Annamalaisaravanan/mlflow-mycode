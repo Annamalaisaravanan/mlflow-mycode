{
 "cells": [
  {
   "cell_type": "code",
   "execution_count": 1,
   "id": "92bd4fbc",
   "metadata": {},
   "outputs": [],
   "source": [
    "import mlflow\n",
    "\n",
    "from sklearn.model_selection import train_test_split\n",
    "from sklearn.datasets import load_diabetes\n",
    "from sklearn.ensemble import RandomForestRegressor\n",
    "\n"
   ]
  },
  {
   "cell_type": "raw",
   "id": "851ba8ce",
   "metadata": {},
   "source": [
    "mlflow_config: \n",
    "       artifacts_dir: artifacts\n",
    "       experiment_name: ElasticNet_Expense\n",
    "       run_name: mlops\n",
    "       registered_model_name: ElasticNetMedicalExpenses\n",
    "       remote_server_uri: http://127.0.0.1:5000"
   ]
  },
  {
   "cell_type": "code",
   "execution_count": 2,
   "id": "5e103a68",
   "metadata": {},
   "outputs": [],
   "source": [
    "import os\n",
    "import yaml\n",
    "import pandas as pd\n",
    "import argparse\n",
    "import joblib\n",
    "import numpy as np\n",
    "from pkgutil import get_data\n",
    "from sklearn.linear_model import ElasticNet\n",
    "from sklearn.metrics import mean_squared_error, mean_absolute_error, r2_score\n",
    "import json\n",
    "import mlflow\n",
    "from urllib.parse import urlparse\n",
    "    "
   ]
  },
  {
   "cell_type": "code",
   "execution_count": 3,
   "id": "d0013fb0",
   "metadata": {},
   "outputs": [],
   "source": [
    "train = pd.read_csv(r'D:\\mlops-folder\\data\\processed\\train_insurance_course5i.csv')\n",
    "            #print(train.head())\n",
    "X = train.drop('charges',axis=1)\n",
    "Y = train['charges']\n",
    "\n",
    "test = pd.read_csv(r'D:\\mlops-folder\\data\\processed\\test_insurance_course5i.csv')\n",
    "            #print(train.head())\n",
    "test_X = test.drop('charges',axis=1)\n",
    "test_Y = test['charges']"
   ]
  },
  {
   "cell_type": "code",
   "execution_count": 7,
   "id": "73492ec2",
   "metadata": {},
   "outputs": [],
   "source": [
    "mlflow.set_tracking_uri('http://ec2-13-233-184-222.ap-south-1.compute.amazonaws.com:5000/')"
   ]
  },
  {
   "cell_type": "code",
   "execution_count": 8,
   "id": "1959642c",
   "metadata": {},
   "outputs": [
    {
     "name": "stderr",
     "output_type": "stream",
     "text": [
      "2023/01/25 20:22:49 INFO mlflow.tracking.fluent: Experiment with name 'ElasticNet_Expense' does not exist. Creating a new experiment.\n",
      "C:\\Users\\annamalai\\AppData\\Local\\Temp\\ipykernel_7040\\57967412.py:9: UserWarning: With alpha=0, this algorithm does not converge well. You are advised to use the LinearRegression estimator\n",
      "  lr.fit(X,Y)\n",
      "c:\\users\\annamalai\\appdata\\local\\programs\\python\\python38\\lib\\site-packages\\sklearn\\linear_model\\_coordinate_descent.py:648: UserWarning: Coordinate descent with no regularization may lead to unexpected results and is discouraged.\n",
      "  model = cd_fast.enet_coordinate_descent(\n",
      "c:\\users\\annamalai\\appdata\\local\\programs\\python\\python38\\lib\\site-packages\\sklearn\\linear_model\\_coordinate_descent.py:648: ConvergenceWarning: Objective did not converge. You might want to increase the number of iterations, check the scale of the features or consider increasing regularisation. Duality gap: 2.049e+10, tolerance: 1.598e+07 Linear regression models with null weight for the l1 regularization term are more efficiently fitted using one of the solvers implemented in sklearn.linear_model.Ridge/RidgeCV instead.\n",
      "  model = cd_fast.enet_coordinate_descent(\n",
      "c:\\users\\annamalai\\appdata\\local\\programs\\python\\python38\\lib\\site-packages\\_distutils_hack\\__init__.py:33: UserWarning: Setuptools is replacing distutils.\n",
      "  warnings.warn(\"Setuptools is replacing distutils.\")\n",
      "Successfully registered model 'ElasticNetMedicalExpenses'.\n",
      "2023/01/25 20:23:07 INFO mlflow.tracking._model_registry.client: Waiting up to 300 seconds for model version to finish creation.                     Model name: ElasticNetMedicalExpenses, version 1\n",
      "Created version '1' of model 'ElasticNetMedicalExpenses'.\n"
     ]
    },
    {
     "name": "stdout",
     "output_type": "stream",
     "text": [
      "2\n"
     ]
    },
    {
     "name": "stderr",
     "output_type": "stream",
     "text": [
      "Registered model 'ElasticNetMedicalExpenses' already exists. Creating a new version of this model...\n",
      "2023/01/25 20:23:19 INFO mlflow.tracking._model_registry.client: Waiting up to 300 seconds for model version to finish creation.                     Model name: ElasticNetMedicalExpenses, version 2\n",
      "Created version '2' of model 'ElasticNetMedicalExpenses'.\n"
     ]
    },
    {
     "name": "stdout",
     "output_type": "stream",
     "text": [
      "3\n"
     ]
    },
    {
     "name": "stderr",
     "output_type": "stream",
     "text": [
      "Registered model 'ElasticNetMedicalExpenses' already exists. Creating a new version of this model...\n",
      "2023/01/25 20:23:31 INFO mlflow.tracking._model_registry.client: Waiting up to 300 seconds for model version to finish creation.                     Model name: ElasticNetMedicalExpenses, version 3\n",
      "Created version '3' of model 'ElasticNetMedicalExpenses'.\n"
     ]
    },
    {
     "name": "stdout",
     "output_type": "stream",
     "text": [
      "4\n"
     ]
    },
    {
     "name": "stderr",
     "output_type": "stream",
     "text": [
      "Registered model 'ElasticNetMedicalExpenses' already exists. Creating a new version of this model...\n",
      "2023/01/25 20:23:43 INFO mlflow.tracking._model_registry.client: Waiting up to 300 seconds for model version to finish creation.                     Model name: ElasticNetMedicalExpenses, version 4\n",
      "Created version '4' of model 'ElasticNetMedicalExpenses'.\n"
     ]
    },
    {
     "name": "stdout",
     "output_type": "stream",
     "text": [
      "5\n"
     ]
    },
    {
     "name": "stderr",
     "output_type": "stream",
     "text": [
      "Registered model 'ElasticNetMedicalExpenses' already exists. Creating a new version of this model...\n",
      "2023/01/25 20:23:54 INFO mlflow.tracking._model_registry.client: Waiting up to 300 seconds for model version to finish creation.                     Model name: ElasticNetMedicalExpenses, version 5\n"
     ]
    },
    {
     "name": "stdout",
     "output_type": "stream",
     "text": [
      "6\n"
     ]
    },
    {
     "name": "stderr",
     "output_type": "stream",
     "text": [
      "Created version '5' of model 'ElasticNetMedicalExpenses'.\n"
     ]
    }
   ],
   "source": [
    "\n",
    "\n",
    "j=1\n",
    "for i in list(np.linspace(0,1,5)):\n",
    "        mlflow.set_experiment('ElasticNet_Expense')\n",
    "        with mlflow.start_run(run_name='mlops',nested=True) as mlops_run:\n",
    "\n",
    "                        lr = ElasticNet(alpha=i,\n",
    "                                                l1_ratio =0.7 , random_state = 32 )\n",
    "\n",
    "                        lr.fit(X,Y)\n",
    "                        test_pred = lr.predict(test_X)\n",
    "\n",
    "                        mae = mean_absolute_error(test_pred,test_Y)\n",
    "                        mse = mean_squared_error(test_pred,test_Y)\n",
    "                        r2score = r2_score(test_pred,test_Y)\n",
    "                        rmse = np.sqrt(mse)\n",
    "\n",
    "                        mlflow.log_param(\"alpha\",i)\n",
    "                        mlflow.log_param(\"l1_ratio\",0.7)\n",
    "\n",
    "\n",
    "                        mlflow.log_metric(\"rmse\",rmse)\n",
    "                        mlflow.log_metric(\"mae\",mae)\n",
    "                        mlflow.log_metric(\"r2\",r2score)\n",
    "\n",
    "                        tracking_url_type_store = urlparse(mlflow.get_artifact_uri()).scheme\n",
    "\n",
    "                        if tracking_url_type_store != \"file\":\n",
    "                                 mlflow.sklearn.log_model(lr,\"model\",registered_model_name = f'ElasticNetMedicalExpenses')\n",
    "\n",
    "                        else:\n",
    "                                 mlflow.sklearn.load_model(lr,\"model\")\n",
    "\n",
    "                        j+=1\n",
    "                        print(j)\n",
    "\n"
   ]
  },
  {
   "cell_type": "code",
   "execution_count": 10,
   "id": "e973f86b",
   "metadata": {},
   "outputs": [
    {
     "data": {
      "text/html": [
       "<div>\n",
       "<style scoped>\n",
       "    .dataframe tbody tr th:only-of-type {\n",
       "        vertical-align: middle;\n",
       "    }\n",
       "\n",
       "    .dataframe tbody tr th {\n",
       "        vertical-align: top;\n",
       "    }\n",
       "\n",
       "    .dataframe thead th {\n",
       "        text-align: right;\n",
       "    }\n",
       "</style>\n",
       "<table border=\"1\" class=\"dataframe\">\n",
       "  <thead>\n",
       "    <tr style=\"text-align: right;\">\n",
       "      <th></th>\n",
       "      <th>run_id</th>\n",
       "      <th>experiment_id</th>\n",
       "      <th>status</th>\n",
       "      <th>artifact_uri</th>\n",
       "      <th>start_time</th>\n",
       "      <th>end_time</th>\n",
       "    </tr>\n",
       "  </thead>\n",
       "  <tbody>\n",
       "  </tbody>\n",
       "</table>\n",
       "</div>"
      ],
      "text/plain": [
       "Empty DataFrame\n",
       "Columns: [run_id, experiment_id, status, artifact_uri, start_time, end_time]\n",
       "Index: []"
      ]
     },
     "execution_count": 10,
     "metadata": {},
     "output_type": "execute_result"
    }
   ],
   "source": [
    "mlflow.search_runs([1])"
   ]
  },
  {
   "cell_type": "code",
   "execution_count": 60,
   "id": "adf2d64b",
   "metadata": {},
   "outputs": [],
   "source": [
    "runs = mlflow.search_runs([1])"
   ]
  },
  {
   "cell_type": "code",
   "execution_count": 61,
   "id": "5d4c12dc",
   "metadata": {},
   "outputs": [
    {
     "data": {
      "text/html": [
       "<div>\n",
       "<style scoped>\n",
       "    .dataframe tbody tr th:only-of-type {\n",
       "        vertical-align: middle;\n",
       "    }\n",
       "\n",
       "    .dataframe tbody tr th {\n",
       "        vertical-align: top;\n",
       "    }\n",
       "\n",
       "    .dataframe thead th {\n",
       "        text-align: right;\n",
       "    }\n",
       "</style>\n",
       "<table border=\"1\" class=\"dataframe\">\n",
       "  <thead>\n",
       "    <tr style=\"text-align: right;\">\n",
       "      <th></th>\n",
       "      <th>run_id</th>\n",
       "      <th>experiment_id</th>\n",
       "      <th>status</th>\n",
       "      <th>artifact_uri</th>\n",
       "      <th>start_time</th>\n",
       "      <th>end_time</th>\n",
       "      <th>metrics.mae</th>\n",
       "      <th>metrics.rmse</th>\n",
       "      <th>metrics.r2</th>\n",
       "      <th>params.l1_ratio</th>\n",
       "      <th>params.alpha</th>\n",
       "      <th>tags.mlflow.runName</th>\n",
       "      <th>tags.mlflow.log-model.history</th>\n",
       "      <th>tags.mlflow.source.name</th>\n",
       "      <th>tags.mlflow.user</th>\n",
       "      <th>tags.mlflow.source.type</th>\n",
       "    </tr>\n",
       "  </thead>\n",
       "  <tbody>\n",
       "    <tr>\n",
       "      <th>0</th>\n",
       "      <td>71cdbd17a63f416e950fe7e7748b5e47</td>\n",
       "      <td>1</td>\n",
       "      <td>FINISHED</td>\n",
       "      <td>./artifacts/1/71cdbd17a63f416e950fe7e7748b5e47...</td>\n",
       "      <td>2023-01-25 12:16:42.753000+00:00</td>\n",
       "      <td>2023-01-25 12:16:53.935000+00:00</td>\n",
       "      <td>6440.037147</td>\n",
       "      <td>8325.112389</td>\n",
       "      <td>-1.508555</td>\n",
       "      <td>0.7</td>\n",
       "      <td>1.0</td>\n",
       "      <td>mlops</td>\n",
       "      <td>[{\"run_id\": \"71cdbd17a63f416e950fe7e7748b5e47\"...</td>\n",
       "      <td>c:\\users\\annamalai\\appdata\\local\\programs\\pyth...</td>\n",
       "      <td>Annamalai</td>\n",
       "      <td>LOCAL</td>\n",
       "    </tr>\n",
       "    <tr>\n",
       "      <th>1</th>\n",
       "      <td>6a9c887e39934351938715ee4a1b2daa</td>\n",
       "      <td>1</td>\n",
       "      <td>FINISHED</td>\n",
       "      <td>./artifacts/1/6a9c887e39934351938715ee4a1b2daa...</td>\n",
       "      <td>2023-01-25 12:16:23.374000+00:00</td>\n",
       "      <td>2023-01-25 12:16:42.643000+00:00</td>\n",
       "      <td>5970.112378</td>\n",
       "      <td>7854.803763</td>\n",
       "      <td>-0.927309</td>\n",
       "      <td>0.7</td>\n",
       "      <td>0.75</td>\n",
       "      <td>mlops</td>\n",
       "      <td>[{\"run_id\": \"6a9c887e39934351938715ee4a1b2daa\"...</td>\n",
       "      <td>c:\\users\\annamalai\\appdata\\local\\programs\\pyth...</td>\n",
       "      <td>Annamalai</td>\n",
       "      <td>LOCAL</td>\n",
       "    </tr>\n",
       "    <tr>\n",
       "      <th>2</th>\n",
       "      <td>bf8f2566a3ad41099b22cff612bbea2a</td>\n",
       "      <td>1</td>\n",
       "      <td>FINISHED</td>\n",
       "      <td>./artifacts/1/bf8f2566a3ad41099b22cff612bbea2a...</td>\n",
       "      <td>2023-01-25 12:15:59.587000+00:00</td>\n",
       "      <td>2023-01-25 12:16:23.172000+00:00</td>\n",
       "      <td>5399.336629</td>\n",
       "      <td>7206.666703</td>\n",
       "      <td>-0.300174</td>\n",
       "      <td>0.7</td>\n",
       "      <td>0.5</td>\n",
       "      <td>mlops</td>\n",
       "      <td>[{\"run_id\": \"bf8f2566a3ad41099b22cff612bbea2a\"...</td>\n",
       "      <td>c:\\users\\annamalai\\appdata\\local\\programs\\pyth...</td>\n",
       "      <td>Annamalai</td>\n",
       "      <td>LOCAL</td>\n",
       "    </tr>\n",
       "    <tr>\n",
       "      <th>3</th>\n",
       "      <td>c95a5ff70d254058a88db09c90327e20</td>\n",
       "      <td>1</td>\n",
       "      <td>FINISHED</td>\n",
       "      <td>./artifacts/1/c95a5ff70d254058a88db09c90327e20...</td>\n",
       "      <td>2023-01-25 12:15:34.191000+00:00</td>\n",
       "      <td>2023-01-25 12:15:59.412000+00:00</td>\n",
       "      <td>4759.686150</td>\n",
       "      <td>6309.645745</td>\n",
       "      <td>0.296423</td>\n",
       "      <td>0.7</td>\n",
       "      <td>0.25</td>\n",
       "      <td>mlops</td>\n",
       "      <td>[{\"run_id\": \"c95a5ff70d254058a88db09c90327e20\"...</td>\n",
       "      <td>c:\\users\\annamalai\\appdata\\local\\programs\\pyth...</td>\n",
       "      <td>Annamalai</td>\n",
       "      <td>LOCAL</td>\n",
       "    </tr>\n",
       "    <tr>\n",
       "      <th>4</th>\n",
       "      <td>d08b1da276dc40758a1a865c4e9a71eb</td>\n",
       "      <td>1</td>\n",
       "      <td>FINISHED</td>\n",
       "      <td>./artifacts/1/d08b1da276dc40758a1a865c4e9a71eb...</td>\n",
       "      <td>2023-01-25 12:15:16.983000+00:00</td>\n",
       "      <td>2023-01-25 12:15:34.024000+00:00</td>\n",
       "      <td>3830.918364</td>\n",
       "      <td>5438.794402</td>\n",
       "      <td>0.708311</td>\n",
       "      <td>0.7</td>\n",
       "      <td>0.0</td>\n",
       "      <td>mlops</td>\n",
       "      <td>[{\"run_id\": \"d08b1da276dc40758a1a865c4e9a71eb\"...</td>\n",
       "      <td>c:\\users\\annamalai\\appdata\\local\\programs\\pyth...</td>\n",
       "      <td>Annamalai</td>\n",
       "      <td>LOCAL</td>\n",
       "    </tr>\n",
       "  </tbody>\n",
       "</table>\n",
       "</div>"
      ],
      "text/plain": [
       "                             run_id experiment_id    status  \\\n",
       "0  71cdbd17a63f416e950fe7e7748b5e47             1  FINISHED   \n",
       "1  6a9c887e39934351938715ee4a1b2daa             1  FINISHED   \n",
       "2  bf8f2566a3ad41099b22cff612bbea2a             1  FINISHED   \n",
       "3  c95a5ff70d254058a88db09c90327e20             1  FINISHED   \n",
       "4  d08b1da276dc40758a1a865c4e9a71eb             1  FINISHED   \n",
       "\n",
       "                                        artifact_uri  \\\n",
       "0  ./artifacts/1/71cdbd17a63f416e950fe7e7748b5e47...   \n",
       "1  ./artifacts/1/6a9c887e39934351938715ee4a1b2daa...   \n",
       "2  ./artifacts/1/bf8f2566a3ad41099b22cff612bbea2a...   \n",
       "3  ./artifacts/1/c95a5ff70d254058a88db09c90327e20...   \n",
       "4  ./artifacts/1/d08b1da276dc40758a1a865c4e9a71eb...   \n",
       "\n",
       "                        start_time                         end_time  \\\n",
       "0 2023-01-25 12:16:42.753000+00:00 2023-01-25 12:16:53.935000+00:00   \n",
       "1 2023-01-25 12:16:23.374000+00:00 2023-01-25 12:16:42.643000+00:00   \n",
       "2 2023-01-25 12:15:59.587000+00:00 2023-01-25 12:16:23.172000+00:00   \n",
       "3 2023-01-25 12:15:34.191000+00:00 2023-01-25 12:15:59.412000+00:00   \n",
       "4 2023-01-25 12:15:16.983000+00:00 2023-01-25 12:15:34.024000+00:00   \n",
       "\n",
       "   metrics.mae  metrics.rmse  metrics.r2 params.l1_ratio params.alpha  \\\n",
       "0  6440.037147   8325.112389   -1.508555             0.7          1.0   \n",
       "1  5970.112378   7854.803763   -0.927309             0.7         0.75   \n",
       "2  5399.336629   7206.666703   -0.300174             0.7          0.5   \n",
       "3  4759.686150   6309.645745    0.296423             0.7         0.25   \n",
       "4  3830.918364   5438.794402    0.708311             0.7          0.0   \n",
       "\n",
       "  tags.mlflow.runName                      tags.mlflow.log-model.history  \\\n",
       "0               mlops  [{\"run_id\": \"71cdbd17a63f416e950fe7e7748b5e47\"...   \n",
       "1               mlops  [{\"run_id\": \"6a9c887e39934351938715ee4a1b2daa\"...   \n",
       "2               mlops  [{\"run_id\": \"bf8f2566a3ad41099b22cff612bbea2a\"...   \n",
       "3               mlops  [{\"run_id\": \"c95a5ff70d254058a88db09c90327e20\"...   \n",
       "4               mlops  [{\"run_id\": \"d08b1da276dc40758a1a865c4e9a71eb\"...   \n",
       "\n",
       "                             tags.mlflow.source.name tags.mlflow.user  \\\n",
       "0  c:\\users\\annamalai\\appdata\\local\\programs\\pyth...        Annamalai   \n",
       "1  c:\\users\\annamalai\\appdata\\local\\programs\\pyth...        Annamalai   \n",
       "2  c:\\users\\annamalai\\appdata\\local\\programs\\pyth...        Annamalai   \n",
       "3  c:\\users\\annamalai\\appdata\\local\\programs\\pyth...        Annamalai   \n",
       "4  c:\\users\\annamalai\\appdata\\local\\programs\\pyth...        Annamalai   \n",
       "\n",
       "  tags.mlflow.source.type  \n",
       "0                   LOCAL  \n",
       "1                   LOCAL  \n",
       "2                   LOCAL  \n",
       "3                   LOCAL  \n",
       "4                   LOCAL  "
      ]
     },
     "execution_count": 61,
     "metadata": {},
     "output_type": "execute_result"
    }
   ],
   "source": [
    "runs"
   ]
  },
  {
   "cell_type": "code",
   "execution_count": 62,
   "id": "d2edbd71",
   "metadata": {},
   "outputs": [],
   "source": [
    "min_val = min(runs['metrics.mae'])\n",
    "lists = list(runs['metrics.mae'])"
   ]
  },
  {
   "cell_type": "code",
   "execution_count": 63,
   "id": "8657ceee",
   "metadata": {},
   "outputs": [],
   "source": [
    "index = lists.index(min_val)"
   ]
  },
  {
   "cell_type": "code",
   "execution_count": 64,
   "id": "b90160eb",
   "metadata": {},
   "outputs": [],
   "source": [
    "min_row = runs[runs['metrics.mae']==min_val]"
   ]
  },
  {
   "cell_type": "code",
   "execution_count": 78,
   "id": "325693f5",
   "metadata": {},
   "outputs": [],
   "source": [
    "min_run_id = min_row['run_id']\n",
    "min_run_id = min_run_id[index]"
   ]
  },
  {
   "cell_type": "code",
   "execution_count": 79,
   "id": "7164557b",
   "metadata": {},
   "outputs": [
    {
     "data": {
      "text/plain": [
       "'d08b1da276dc40758a1a865c4e9a71eb'"
      ]
     },
     "execution_count": 79,
     "metadata": {},
     "output_type": "execute_result"
    }
   ],
   "source": [
    "min_run_id"
   ]
  },
  {
   "cell_type": "code",
   "execution_count": 66,
   "id": "d4ecf7a9",
   "metadata": {},
   "outputs": [],
   "source": [
    "from mlflow import MlflowClient"
   ]
  },
  {
   "cell_type": "code",
   "execution_count": 76,
   "id": "4bd15492",
   "metadata": {},
   "outputs": [],
   "source": [
    "from pprint import pprint"
   ]
  },
  {
   "cell_type": "code",
   "execution_count": 67,
   "id": "e142cfcb",
   "metadata": {},
   "outputs": [],
   "source": [
    "client = MlflowClient()"
   ]
  },
  {
   "cell_type": "code",
   "execution_count": 82,
   "id": "73a9390a",
   "metadata": {},
   "outputs": [],
   "source": [
    "for mv in client.search_model_versions(\"name = 'ElasticNetMedicalExpenses'\"):\n",
    "            #pprint(dict(mv),indent=4)\n",
    "            mv = dict(mv)\n",
    "            if model['run_id'] == min_run_id:\n",
    "                    current_version = mv['version']\n",
    "                    print(current_version)\n",
    "                    model_name = mv['name']\n",
    "                    logged_model = mv['source']\n",
    "                    client.transition_model_version_stage(version=current_version,name =model_name, stage = 'Production')\n",
    "                    \n",
    "            else:\n",
    "                    current_version = mv['version']\n",
    "                    model_name = mv['name']\n",
    "                    client.transition_model_version_stage(version=current_version,name =model_name, stage = 'Staging')"
   ]
  },
  {
   "cell_type": "code",
   "execution_count": null,
   "id": "f21e314b",
   "metadata": {},
   "outputs": [],
   "source": []
  }
 ],
 "metadata": {
  "kernelspec": {
   "display_name": "Python 3 (ipykernel)",
   "language": "python",
   "name": "python3"
  },
  "language_info": {
   "codemirror_mode": {
    "name": "ipython",
    "version": 3
   },
   "file_extension": ".py",
   "mimetype": "text/x-python",
   "name": "python",
   "nbconvert_exporter": "python",
   "pygments_lexer": "ipython3",
   "version": "3.8.10"
  }
 },
 "nbformat": 4,
 "nbformat_minor": 5
}
